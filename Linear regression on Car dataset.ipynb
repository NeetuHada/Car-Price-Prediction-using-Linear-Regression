{
 "cells": [
  {
   "cell_type": "markdown",
   "metadata": {
    "id": "LNZx1lxBD8YM",
    "tags": []
   },
   "source": [
    "# Objective\n",
    "\n",
    "* Identify the Which Variable have more impact on Price of car\n",
    "\n",
    "* To build the Model which will help to Predict the Price of car based on Various parameter ( independent Variable )"
   ]
  },
  {
   "cell_type": "code",
   "execution_count": null,
   "metadata": {
    "id": "f5K0VDUYD8YS"
   },
   "outputs": [],
   "source": [
    "import pandas as pd\n",
    "import numpy as np\n",
    "import warnings\n",
    "warnings.filterwarnings(\"ignore\")"
   ]
  },
  {
   "cell_type": "code",
   "execution_count": null,
   "metadata": {
    "id": "TzTY_52PD8YT",
    "outputId": "a9710c61-f506-4bd1-9c8a-1a0e6d885bd1",
    "scrolled": true
   },
   "outputs": [
    {
     "name": "stdout",
     "output_type": "stream",
     "text": [
      "<class 'pandas.core.frame.DataFrame'>\n",
      "RangeIndex: 156 entries, 0 to 155\n",
      "Data columns (total 10 columns):\n",
      " #   Column           Non-Null Count  Dtype  \n",
      "---  ------           --------------  -----  \n",
      " 0   Price            156 non-null    float64\n",
      " 1   Engine_size      156 non-null    float64\n",
      " 2   Horsepower       156 non-null    int64  \n",
      " 3   Wheelbase        156 non-null    float64\n",
      " 4   Width            156 non-null    float64\n",
      " 5   Length           156 non-null    float64\n",
      " 6   Curb_weight      156 non-null    float64\n",
      " 7   Fuel_capacity    156 non-null    float64\n",
      " 8   Fuel_efficiency  156 non-null    int64  \n",
      " 9   Resale           156 non-null    float64\n",
      "dtypes: float64(8), int64(2)\n",
      "memory usage: 12.3 KB\n"
     ]
    }
   ],
   "source": [
    "df = pd.read_csv(r\"C:/Users/Neetu Hada/OneDrive/Documents/Projects/Car dataset.csv\")\n",
    "df.info()"
   ]
  },
  {
   "cell_type": "code",
   "execution_count": null,
   "metadata": {
    "id": "dqFopnW-D8YU",
    "outputId": "a6419f27-c5b5-4196-aaf2-ea80e87c2483"
   },
   "outputs": [
    {
     "data": {
      "text/html": [
       "<div>\n",
       "<style scoped>\n",
       "    .dataframe tbody tr th:only-of-type {\n",
       "        vertical-align: middle;\n",
       "    }\n",
       "\n",
       "    .dataframe tbody tr th {\n",
       "        vertical-align: top;\n",
       "    }\n",
       "\n",
       "    .dataframe thead th {\n",
       "        text-align: right;\n",
       "    }\n",
       "</style>\n",
       "<table border=\"1\" class=\"dataframe\">\n",
       "  <thead>\n",
       "    <tr style=\"text-align: right;\">\n",
       "      <th></th>\n",
       "      <th>Price</th>\n",
       "      <th>Engine_size</th>\n",
       "      <th>Horsepower</th>\n",
       "      <th>Wheelbase</th>\n",
       "      <th>Width</th>\n",
       "      <th>Length</th>\n",
       "      <th>Curb_weight</th>\n",
       "      <th>Fuel_capacity</th>\n",
       "      <th>Fuel_efficiency</th>\n",
       "      <th>Resale</th>\n",
       "    </tr>\n",
       "  </thead>\n",
       "  <tbody>\n",
       "    <tr>\n",
       "      <th>0</th>\n",
       "      <td>21.50</td>\n",
       "      <td>1.8</td>\n",
       "      <td>140</td>\n",
       "      <td>101.2</td>\n",
       "      <td>67.3</td>\n",
       "      <td>172.4</td>\n",
       "      <td>2.639</td>\n",
       "      <td>13.2</td>\n",
       "      <td>28</td>\n",
       "      <td>16.360</td>\n",
       "    </tr>\n",
       "    <tr>\n",
       "      <th>1</th>\n",
       "      <td>28.40</td>\n",
       "      <td>3.2</td>\n",
       "      <td>225</td>\n",
       "      <td>108.1</td>\n",
       "      <td>70.3</td>\n",
       "      <td>192.9</td>\n",
       "      <td>3.517</td>\n",
       "      <td>17.2</td>\n",
       "      <td>25</td>\n",
       "      <td>19.875</td>\n",
       "    </tr>\n",
       "    <tr>\n",
       "      <th>2</th>\n",
       "      <td>35.00</td>\n",
       "      <td>3.2</td>\n",
       "      <td>225</td>\n",
       "      <td>106.9</td>\n",
       "      <td>70.6</td>\n",
       "      <td>192.0</td>\n",
       "      <td>3.470</td>\n",
       "      <td>17.2</td>\n",
       "      <td>26</td>\n",
       "      <td>18.225</td>\n",
       "    </tr>\n",
       "    <tr>\n",
       "      <th>3</th>\n",
       "      <td>42.00</td>\n",
       "      <td>3.5</td>\n",
       "      <td>210</td>\n",
       "      <td>114.6</td>\n",
       "      <td>71.4</td>\n",
       "      <td>196.6</td>\n",
       "      <td>3.850</td>\n",
       "      <td>18.0</td>\n",
       "      <td>22</td>\n",
       "      <td>29.725</td>\n",
       "    </tr>\n",
       "    <tr>\n",
       "      <th>4</th>\n",
       "      <td>23.99</td>\n",
       "      <td>1.8</td>\n",
       "      <td>150</td>\n",
       "      <td>102.6</td>\n",
       "      <td>68.2</td>\n",
       "      <td>178.0</td>\n",
       "      <td>2.998</td>\n",
       "      <td>16.4</td>\n",
       "      <td>27</td>\n",
       "      <td>22.255</td>\n",
       "    </tr>\n",
       "  </tbody>\n",
       "</table>\n",
       "</div>"
      ],
      "text/plain": [
       "   Price  Engine_size  Horsepower  Wheelbase  Width  Length  Curb_weight  \\\n",
       "0  21.50          1.8         140      101.2   67.3   172.4        2.639   \n",
       "1  28.40          3.2         225      108.1   70.3   192.9        3.517   \n",
       "2  35.00          3.2         225      106.9   70.6   192.0        3.470   \n",
       "3  42.00          3.5         210      114.6   71.4   196.6        3.850   \n",
       "4  23.99          1.8         150      102.6   68.2   178.0        2.998   \n",
       "\n",
       "   Fuel_capacity  Fuel_efficiency  Resale  \n",
       "0           13.2               28  16.360  \n",
       "1           17.2               25  19.875  \n",
       "2           17.2               26  18.225  \n",
       "3           18.0               22  29.725  \n",
       "4           16.4               27  22.255  "
      ]
     },
     "execution_count": 3,
     "metadata": {},
     "output_type": "execute_result"
    }
   ],
   "source": [
    "df.head()"
   ]
  },
  {
   "cell_type": "markdown",
   "metadata": {
    "id": "dWaL0nxsD8YU"
   },
   "source": [
    "# EDA"
   ]
  },
  {
   "cell_type": "markdown",
   "metadata": {
    "id": "Z-NTbCGZD8YV"
   },
   "source": [
    "#### Missing Value"
   ]
  },
  {
   "cell_type": "code",
   "execution_count": null,
   "metadata": {
    "id": "0J1VGkjZD8YV",
    "outputId": "439ddacd-6300-40fe-d54c-4e7af40f4487"
   },
   "outputs": [
    {
     "data": {
      "text/plain": [
       "Price              0\n",
       "Engine_size        0\n",
       "Horsepower         0\n",
       "Wheelbase          0\n",
       "Width              0\n",
       "Length             0\n",
       "Curb_weight        0\n",
       "Fuel_capacity      0\n",
       "Fuel_efficiency    0\n",
       "Resale             0\n",
       "dtype: int64"
      ]
     },
     "execution_count": 4,
     "metadata": {},
     "output_type": "execute_result"
    }
   ],
   "source": [
    "df.isna().sum()  # no missing data"
   ]
  },
  {
   "cell_type": "markdown",
   "metadata": {
    "id": "ag2-Rp8bD8YW"
   },
   "source": [
    "# Outlier"
   ]
  },
  {
   "cell_type": "code",
   "execution_count": null,
   "metadata": {
    "id": "IZoRA1FID8YW",
    "outputId": "2b75b39f-612b-43aa-8f23-f375cfb549bb"
   },
   "outputs": [
    {
     "data": {
      "text/plain": [
       "<Axes: >"
      ]
     },
     "execution_count": 5,
     "metadata": {},
     "output_type": "execute_result"
    },
    {
     "data": {
      "image/png": "[encoded data removed]",
      "text/plain": [
       "<Figure size 640x480 with 1 Axes>"
      ]
     },
     "metadata": {},
     "output_type": "display_data"
    }
   ],
   "source": [
    "import seaborn as sns\n",
    "sns.boxplot(data=df)"
   ]
  },
  {
   "cell_type": "markdown",
   "metadata": {
    "id": "jprFBJvWD8YX"
   },
   "source": [
    "# Treatment of Outlier -- Winsorizing Technique"
   ]
  },
  {
   "cell_type": "code",
   "execution_count": null,
   "metadata": {
    "id": "7loDbeA7D8YX"
   },
   "outputs": [],
   "source": [
    "for i in df:                  # i = column name\n",
    "    if df[i].dtypes in (\"float64\",\"int64\"): # df[i] = every column will select float & int column only\n",
    "        q1 = df[i].quantile(0.25)  # for 1 column compute q1\n",
    "        q3 = df[i].quantile(0.75)  # for 1 column compute q3\n",
    "        iqr = q3-q1  # for 1 column compute IQR\n",
    "        ul = q3 + 1.5*iqr # for 1 column compute UPPER LIMIT\n",
    "        ll = q1 - 1.5*iqr # for 1 column compute LOWER LIMIT\n",
    "        df[i].clip(lower=ll,upper=ul,inplace=True)"
   ]
  },
  {
   "cell_type": "code",
   "execution_count": null,
   "metadata": {
    "id": "bbF6z8BeD8YX",
    "outputId": "40c64a9b-ed84-4a58-8fef-0519acfd68c1"
   },
   "outputs": [
    {
     "data": {
      "text/plain": [
       "<Axes: >"
      ]
     },
     "execution_count": 9,
     "metadata": {},
     "output_type": "execute_result"
    },
    {
     "data": {
      "image/png": "[encoded data removed]",
      "text/plain": [
       "<Figure size 640x480 with 1 Axes>"
      ]
     },
     "metadata": {},
     "output_type": "display_data"
    }
   ],
   "source": [
    "import seaborn as sns\n",
    "sns.boxplot(data=df)"
   ]
  },
  {
   "cell_type": "markdown",
   "metadata": {
    "id": "mePCtSdVD8YY"
   },
   "source": [
    "# Data Partition"
   ]
  },
  {
   "cell_type": "code",
   "execution_count": null,
   "metadata": {
    "id": "R0JCcRgND8YY",
    "scrolled": true
   },
   "outputs": [],
   "source": [
    "X = df.drop('Price', axis= 1)\n",
    "y = df[['Price']]\n",
    "\n",
    "from sklearn.model_selection import train_test_split\n",
    "X_train, X_test, y_train, y_test = train_test_split(X, y, train_size = 0.7 ,random_state=134)"
   ]
  },
  {
   "cell_type": "code",
   "execution_count": null,
   "metadata": {
    "id": "ONNrPkJ1D8YY",
    "outputId": "c2f0c6f4-1731-4860-a6e8-47224239dfc1",
    "scrolled": true
   },
   "outputs": [
    {
     "data": {
      "text/html": [
       "<div>\n",
       "<style scoped>\n",
       "    .dataframe tbody tr th:only-of-type {\n",
       "        vertical-align: middle;\n",
       "    }\n",
       "\n",
       "    .dataframe tbody tr th {\n",
       "        vertical-align: top;\n",
       "    }\n",
       "\n",
       "    .dataframe thead th {\n",
       "        text-align: right;\n",
       "    }\n",
       "</style>\n",
       "<table border=\"1\" class=\"dataframe\">\n",
       "  <thead>\n",
       "    <tr style=\"text-align: right;\">\n",
       "      <th></th>\n",
       "      <th>Price</th>\n",
       "      <th>Engine_size</th>\n",
       "      <th>Horsepower</th>\n",
       "      <th>Wheelbase</th>\n",
       "      <th>Width</th>\n",
       "      <th>Length</th>\n",
       "      <th>Curb_weight</th>\n",
       "      <th>Fuel_capacity</th>\n",
       "      <th>Fuel_efficiency</th>\n",
       "      <th>Resale</th>\n",
       "    </tr>\n",
       "  </thead>\n",
       "  <tbody>\n",
       "    <tr>\n",
       "      <th>131</th>\n",
       "      <td>18.835</td>\n",
       "      <td>2.2</td>\n",
       "      <td>137.0</td>\n",
       "      <td>106.5</td>\n",
       "      <td>69.0</td>\n",
       "      <td>190.4</td>\n",
       "      <td>3.075</td>\n",
       "      <td>13.1</td>\n",
       "      <td>27.0</td>\n",
       "      <td>18.061000</td>\n",
       "    </tr>\n",
       "    <tr>\n",
       "      <th>88</th>\n",
       "      <td>22.605</td>\n",
       "      <td>4.6</td>\n",
       "      <td>200.0</td>\n",
       "      <td>114.7</td>\n",
       "      <td>78.2</td>\n",
       "      <td>212.0</td>\n",
       "      <td>3.958</td>\n",
       "      <td>19.0</td>\n",
       "      <td>21.0</td>\n",
       "      <td>14.875000</td>\n",
       "    </tr>\n",
       "    <tr>\n",
       "      <th>8</th>\n",
       "      <td>33.400</td>\n",
       "      <td>2.8</td>\n",
       "      <td>193.0</td>\n",
       "      <td>107.3</td>\n",
       "      <td>68.5</td>\n",
       "      <td>176.0</td>\n",
       "      <td>3.197</td>\n",
       "      <td>16.6</td>\n",
       "      <td>24.0</td>\n",
       "      <td>26.410625</td>\n",
       "    </tr>\n",
       "    <tr>\n",
       "      <th>0</th>\n",
       "      <td>21.500</td>\n",
       "      <td>1.8</td>\n",
       "      <td>140.0</td>\n",
       "      <td>101.2</td>\n",
       "      <td>67.3</td>\n",
       "      <td>172.4</td>\n",
       "      <td>2.639</td>\n",
       "      <td>13.2</td>\n",
       "      <td>28.0</td>\n",
       "      <td>16.360000</td>\n",
       "    </tr>\n",
       "    <tr>\n",
       "      <th>122</th>\n",
       "      <td>25.635</td>\n",
       "      <td>3.4</td>\n",
       "      <td>185.0</td>\n",
       "      <td>120.0</td>\n",
       "      <td>72.7</td>\n",
       "      <td>201.3</td>\n",
       "      <td>3.942</td>\n",
       "      <td>25.0</td>\n",
       "      <td>23.0</td>\n",
       "      <td>18.061000</td>\n",
       "    </tr>\n",
       "  </tbody>\n",
       "</table>\n",
       "</div>"
      ],
      "text/plain": [
       "      Price  Engine_size  Horsepower  Wheelbase  Width  Length  Curb_weight  \\\n",
       "131  18.835          2.2       137.0      106.5   69.0   190.4        3.075   \n",
       "88   22.605          4.6       200.0      114.7   78.2   212.0        3.958   \n",
       "8    33.400          2.8       193.0      107.3   68.5   176.0        3.197   \n",
       "0    21.500          1.8       140.0      101.2   67.3   172.4        2.639   \n",
       "122  25.635          3.4       185.0      120.0   72.7   201.3        3.942   \n",
       "\n",
       "     Fuel_capacity  Fuel_efficiency     Resale  \n",
       "131           13.1             27.0  18.061000  \n",
       "88            19.0             21.0  14.875000  \n",
       "8             16.6             24.0  26.410625  \n",
       "0             13.2             28.0  16.360000  \n",
       "122           25.0             23.0  18.061000  "
      ]
     },
     "execution_count": 11,
     "metadata": {},
     "output_type": "execute_result"
    }
   ],
   "source": [
    "train = pd.concat([y_train, X_train], axis=1)\n",
    "train.head()"
   ]
  },
  {
   "cell_type": "markdown",
   "metadata": {
    "id": "O5IBWYTXD8YZ"
   },
   "source": [
    "# Correlation"
   ]
  },
  {
   "cell_type": "code",
   "execution_count": null,
   "metadata": {
    "id": "5URwaO3YD8YZ",
    "outputId": "0bfb099f-04e0-4dd6-ebe3-c02a14a88e5c"
   },
   "outputs": [
    {
     "data": {
      "text/html": [
       "<style type=\"text/css\">\n",
       "#T_4eabf_row0_col0, #T_4eabf_row0_col2, #T_4eabf_row0_col9, #T_4eabf_row1_col1, #T_4eabf_row1_col2, #T_4eabf_row1_col6, #T_4eabf_row1_col7, #T_4eabf_row2_col0, #T_4eabf_row2_col1, #T_4eabf_row2_col2, #T_4eabf_row3_col3, #T_4eabf_row3_col5, #T_4eabf_row3_col7, #T_4eabf_row4_col4, #T_4eabf_row4_col5, #T_4eabf_row4_col6, #T_4eabf_row5_col3, #T_4eabf_row5_col4, #T_4eabf_row5_col5, #T_4eabf_row6_col1, #T_4eabf_row6_col4, #T_4eabf_row6_col6, #T_4eabf_row6_col7, #T_4eabf_row7_col1, #T_4eabf_row7_col3, #T_4eabf_row7_col6, #T_4eabf_row7_col7, #T_4eabf_row8_col8, #T_4eabf_row9_col0, #T_4eabf_row9_col9 {\n",
       "  background-color: yellow;\n",
       "}\n",
       "</style>\n",
       "<table id=\"T_4eabf\">\n",
       "  <thead>\n",
       "    <tr>\n",
       "      <th class=\"blank level0\" >&nbsp;</th>\n",
       "      <th id=\"T_4eabf_level0_col0\" class=\"col_heading level0 col0\" >Price</th>\n",
       "      <th id=\"T_4eabf_level0_col1\" class=\"col_heading level0 col1\" >Engine_size</th>\n",
       "      <th id=\"T_4eabf_level0_col2\" class=\"col_heading level0 col2\" >Horsepower</th>\n",
       "      <th id=\"T_4eabf_level0_col3\" class=\"col_heading level0 col3\" >Wheelbase</th>\n",
       "      <th id=\"T_4eabf_level0_col4\" class=\"col_heading level0 col4\" >Width</th>\n",
       "      <th id=\"T_4eabf_level0_col5\" class=\"col_heading level0 col5\" >Length</th>\n",
       "      <th id=\"T_4eabf_level0_col6\" class=\"col_heading level0 col6\" >Curb_weight</th>\n",
       "      <th id=\"T_4eabf_level0_col7\" class=\"col_heading level0 col7\" >Fuel_capacity</th>\n",
       "      <th id=\"T_4eabf_level0_col8\" class=\"col_heading level0 col8\" >Fuel_efficiency</th>\n",
       "      <th id=\"T_4eabf_level0_col9\" class=\"col_heading level0 col9\" >Resale</th>\n",
       "    </tr>\n",
       "  </thead>\n",
       "  <tbody>\n",
       "    <tr>\n",
       "      <th id=\"T_4eabf_level0_row0\" class=\"row_heading level0 row0\" >Price</th>\n",
       "      <td id=\"T_4eabf_row0_col0\" class=\"data row0 col0\" >1.000000</td>\n",
       "      <td id=\"T_4eabf_row0_col1\" class=\"data row0 col1\" >0.667309</td>\n",
       "      <td id=\"T_4eabf_row0_col2\" class=\"data row0 col2\" >0.886385</td>\n",
       "      <td id=\"T_4eabf_row0_col3\" class=\"data row0 col3\" >0.151918</td>\n",
       "      <td id=\"T_4eabf_row0_col4\" class=\"data row0 col4\" >0.340044</td>\n",
       "      <td id=\"T_4eabf_row0_col5\" class=\"data row0 col5\" >0.184254</td>\n",
       "      <td id=\"T_4eabf_row0_col6\" class=\"data row0 col6\" >0.580104</td>\n",
       "      <td id=\"T_4eabf_row0_col7\" class=\"data row0 col7\" >0.505469</td>\n",
       "      <td id=\"T_4eabf_row0_col8\" class=\"data row0 col8\" >-0.538885</td>\n",
       "      <td id=\"T_4eabf_row0_col9\" class=\"data row0 col9\" >0.813247</td>\n",
       "    </tr>\n",
       "    <tr>\n",
       "      <th id=\"T_4eabf_level0_row1\" class=\"row_heading level0 row1\" >Engine_size</th>\n",
       "      <td id=\"T_4eabf_row1_col0\" class=\"data row1 col0\" >0.667309</td>\n",
       "      <td id=\"T_4eabf_row1_col1\" class=\"data row1 col1\" >1.000000</td>\n",
       "      <td id=\"T_4eabf_row1_col2\" class=\"data row1 col2\" >0.829458</td>\n",
       "      <td id=\"T_4eabf_row1_col3\" class=\"data row1 col3\" >0.502117</td>\n",
       "      <td id=\"T_4eabf_row1_col4\" class=\"data row1 col4\" >0.682777</td>\n",
       "      <td id=\"T_4eabf_row1_col5\" class=\"data row1 col5\" >0.577360</td>\n",
       "      <td id=\"T_4eabf_row1_col6\" class=\"data row1 col6\" >0.798542</td>\n",
       "      <td id=\"T_4eabf_row1_col7\" class=\"data row1 col7\" >0.712079</td>\n",
       "      <td id=\"T_4eabf_row1_col8\" class=\"data row1 col8\" >-0.758589</td>\n",
       "      <td id=\"T_4eabf_row1_col9\" class=\"data row1 col9\" >0.491024</td>\n",
       "    </tr>\n",
       "    <tr>\n",
       "      <th id=\"T_4eabf_level0_row2\" class=\"row_heading level0 row2\" >Horsepower</th>\n",
       "      <td id=\"T_4eabf_row2_col0\" class=\"data row2 col0\" >0.886385</td>\n",
       "      <td id=\"T_4eabf_row2_col1\" class=\"data row2 col1\" >0.829458</td>\n",
       "      <td id=\"T_4eabf_row2_col2\" class=\"data row2 col2\" >1.000000</td>\n",
       "      <td id=\"T_4eabf_row2_col3\" class=\"data row2 col3\" >0.298277</td>\n",
       "      <td id=\"T_4eabf_row2_col4\" class=\"data row2 col4\" >0.512379</td>\n",
       "      <td id=\"T_4eabf_row2_col5\" class=\"data row2 col5\" >0.422161</td>\n",
       "      <td id=\"T_4eabf_row2_col6\" class=\"data row2 col6\" >0.640838</td>\n",
       "      <td id=\"T_4eabf_row2_col7\" class=\"data row2 col7\" >0.567119</td>\n",
       "      <td id=\"T_4eabf_row2_col8\" class=\"data row2 col8\" >-0.610716</td>\n",
       "      <td id=\"T_4eabf_row2_col9\" class=\"data row2 col9\" >0.695797</td>\n",
       "    </tr>\n",
       "    <tr>\n",
       "      <th id=\"T_4eabf_level0_row3\" class=\"row_heading level0 row3\" >Wheelbase</th>\n",
       "      <td id=\"T_4eabf_row3_col0\" class=\"data row3 col0\" >0.151918</td>\n",
       "      <td id=\"T_4eabf_row3_col1\" class=\"data row3 col1\" >0.502117</td>\n",
       "      <td id=\"T_4eabf_row3_col2\" class=\"data row3 col2\" >0.298277</td>\n",
       "      <td id=\"T_4eabf_row3_col3\" class=\"data row3 col3\" >1.000000</td>\n",
       "      <td id=\"T_4eabf_row3_col4\" class=\"data row3 col4\" >0.680571</td>\n",
       "      <td id=\"T_4eabf_row3_col5\" class=\"data row3 col5\" >0.862125</td>\n",
       "      <td id=\"T_4eabf_row3_col6\" class=\"data row3 col6\" >0.681521</td>\n",
       "      <td id=\"T_4eabf_row3_col7\" class=\"data row3 col7\" >0.709292</td>\n",
       "      <td id=\"T_4eabf_row3_col8\" class=\"data row3 col8\" >-0.485593</td>\n",
       "      <td id=\"T_4eabf_row3_col9\" class=\"data row3 col9\" >0.057194</td>\n",
       "    </tr>\n",
       "    <tr>\n",
       "      <th id=\"T_4eabf_level0_row4\" class=\"row_heading level0 row4\" >Width</th>\n",
       "      <td id=\"T_4eabf_row4_col0\" class=\"data row4 col0\" >0.340044</td>\n",
       "      <td id=\"T_4eabf_row4_col1\" class=\"data row4 col1\" >0.682777</td>\n",
       "      <td id=\"T_4eabf_row4_col2\" class=\"data row4 col2\" >0.512379</td>\n",
       "      <td id=\"T_4eabf_row4_col3\" class=\"data row4 col3\" >0.680571</td>\n",
       "      <td id=\"T_4eabf_row4_col4\" class=\"data row4 col4\" >1.000000</td>\n",
       "      <td id=\"T_4eabf_row4_col5\" class=\"data row4 col5\" >0.729054</td>\n",
       "      <td id=\"T_4eabf_row4_col6\" class=\"data row4 col6\" >0.707372</td>\n",
       "      <td id=\"T_4eabf_row4_col7\" class=\"data row4 col7\" >0.658170</td>\n",
       "      <td id=\"T_4eabf_row4_col8\" class=\"data row4 col8\" >-0.601092</td>\n",
       "      <td id=\"T_4eabf_row4_col9\" class=\"data row4 col9\" >0.206501</td>\n",
       "    </tr>\n",
       "    <tr>\n",
       "      <th id=\"T_4eabf_level0_row5\" class=\"row_heading level0 row5\" >Length</th>\n",
       "      <td id=\"T_4eabf_row5_col0\" class=\"data row5 col0\" >0.184254</td>\n",
       "      <td id=\"T_4eabf_row5_col1\" class=\"data row5 col1\" >0.577360</td>\n",
       "      <td id=\"T_4eabf_row5_col2\" class=\"data row5 col2\" >0.422161</td>\n",
       "      <td id=\"T_4eabf_row5_col3\" class=\"data row5 col3\" >0.862125</td>\n",
       "      <td id=\"T_4eabf_row5_col4\" class=\"data row5 col4\" >0.729054</td>\n",
       "      <td id=\"T_4eabf_row5_col5\" class=\"data row5 col5\" >1.000000</td>\n",
       "      <td id=\"T_4eabf_row5_col6\" class=\"data row5 col6\" >0.637017</td>\n",
       "      <td id=\"T_4eabf_row5_col7\" class=\"data row5 col7\" >0.584920</td>\n",
       "      <td id=\"T_4eabf_row5_col8\" class=\"data row5 col8\" >-0.454935</td>\n",
       "      <td id=\"T_4eabf_row5_col9\" class=\"data row5 col9\" >0.082205</td>\n",
       "    </tr>\n",
       "    <tr>\n",
       "      <th id=\"T_4eabf_level0_row6\" class=\"row_heading level0 row6\" >Curb_weight</th>\n",
       "      <td id=\"T_4eabf_row6_col0\" class=\"data row6 col0\" >0.580104</td>\n",
       "      <td id=\"T_4eabf_row6_col1\" class=\"data row6 col1\" >0.798542</td>\n",
       "      <td id=\"T_4eabf_row6_col2\" class=\"data row6 col2\" >0.640838</td>\n",
       "      <td id=\"T_4eabf_row6_col3\" class=\"data row6 col3\" >0.681521</td>\n",
       "      <td id=\"T_4eabf_row6_col4\" class=\"data row6 col4\" >0.707372</td>\n",
       "      <td id=\"T_4eabf_row6_col5\" class=\"data row6 col5\" >0.637017</td>\n",
       "      <td id=\"T_4eabf_row6_col6\" class=\"data row6 col6\" >1.000000</td>\n",
       "      <td id=\"T_4eabf_row6_col7\" class=\"data row6 col7\" >0.868244</td>\n",
       "      <td id=\"T_4eabf_row6_col8\" class=\"data row6 col8\" >-0.852497</td>\n",
       "      <td id=\"T_4eabf_row6_col9\" class=\"data row6 col9\" >0.471094</td>\n",
       "    </tr>\n",
       "    <tr>\n",
       "      <th id=\"T_4eabf_level0_row7\" class=\"row_heading level0 row7\" >Fuel_capacity</th>\n",
       "      <td id=\"T_4eabf_row7_col0\" class=\"data row7 col0\" >0.505469</td>\n",
       "      <td id=\"T_4eabf_row7_col1\" class=\"data row7 col1\" >0.712079</td>\n",
       "      <td id=\"T_4eabf_row7_col2\" class=\"data row7 col2\" >0.567119</td>\n",
       "      <td id=\"T_4eabf_row7_col3\" class=\"data row7 col3\" >0.709292</td>\n",
       "      <td id=\"T_4eabf_row7_col4\" class=\"data row7 col4\" >0.658170</td>\n",
       "      <td id=\"T_4eabf_row7_col5\" class=\"data row7 col5\" >0.584920</td>\n",
       "      <td id=\"T_4eabf_row7_col6\" class=\"data row7 col6\" >0.868244</td>\n",
       "      <td id=\"T_4eabf_row7_col7\" class=\"data row7 col7\" >1.000000</td>\n",
       "      <td id=\"T_4eabf_row7_col8\" class=\"data row7 col8\" >-0.838215</td>\n",
       "      <td id=\"T_4eabf_row7_col9\" class=\"data row7 col9\" >0.381598</td>\n",
       "    </tr>\n",
       "    <tr>\n",
       "      <th id=\"T_4eabf_level0_row8\" class=\"row_heading level0 row8\" >Fuel_efficiency</th>\n",
       "      <td id=\"T_4eabf_row8_col0\" class=\"data row8 col0\" >-0.538885</td>\n",
       "      <td id=\"T_4eabf_row8_col1\" class=\"data row8 col1\" >-0.758589</td>\n",
       "      <td id=\"T_4eabf_row8_col2\" class=\"data row8 col2\" >-0.610716</td>\n",
       "      <td id=\"T_4eabf_row8_col3\" class=\"data row8 col3\" >-0.485593</td>\n",
       "      <td id=\"T_4eabf_row8_col4\" class=\"data row8 col4\" >-0.601092</td>\n",
       "      <td id=\"T_4eabf_row8_col5\" class=\"data row8 col5\" >-0.454935</td>\n",
       "      <td id=\"T_4eabf_row8_col6\" class=\"data row8 col6\" >-0.852497</td>\n",
       "      <td id=\"T_4eabf_row8_col7\" class=\"data row8 col7\" >-0.838215</td>\n",
       "      <td id=\"T_4eabf_row8_col8\" class=\"data row8 col8\" >1.000000</td>\n",
       "      <td id=\"T_4eabf_row8_col9\" class=\"data row8 col9\" >-0.436586</td>\n",
       "    </tr>\n",
       "    <tr>\n",
       "      <th id=\"T_4eabf_level0_row9\" class=\"row_heading level0 row9\" >Resale</th>\n",
       "      <td id=\"T_4eabf_row9_col0\" class=\"data row9 col0\" >0.813247</td>\n",
       "      <td id=\"T_4eabf_row9_col1\" class=\"data row9 col1\" >0.491024</td>\n",
       "      <td id=\"T_4eabf_row9_col2\" class=\"data row9 col2\" >0.695797</td>\n",
       "      <td id=\"T_4eabf_row9_col3\" class=\"data row9 col3\" >0.057194</td>\n",
       "      <td id=\"T_4eabf_row9_col4\" class=\"data row9 col4\" >0.206501</td>\n",
       "      <td id=\"T_4eabf_row9_col5\" class=\"data row9 col5\" >0.082205</td>\n",
       "      <td id=\"T_4eabf_row9_col6\" class=\"data row9 col6\" >0.471094</td>\n",
       "      <td id=\"T_4eabf_row9_col7\" class=\"data row9 col7\" >0.381598</td>\n",
       "      <td id=\"T_4eabf_row9_col8\" class=\"data row9 col8\" >-0.436586</td>\n",
       "      <td id=\"T_4eabf_row9_col9\" class=\"data row9 col9\" >1.000000</td>\n",
       "    </tr>\n",
       "  </tbody>\n",
       "</table>\n"
      ],
      "text/plain": [
       "<pandas.io.formats.style.Styler at 0x280efbe9750>"
      ]
     },
     "execution_count": 12,
     "metadata": {},
     "output_type": "execute_result"
    }
   ],
   "source": [
    "Correlation = train.corr()\n",
    "Correlation.style.applymap(lambda x: 'background-color : yellow' if x > 0.7 else '')"
   ]
  },
  {
   "cell_type": "markdown",
   "metadata": {
    "id": "e6dAMXd4D8YZ"
   },
   "source": [
    "###### Correlation\n",
    "* Resale & Horsepower have high impact on Price of Car\n",
    "* Multi-Colinearity is Present"
   ]
  },
  {
   "cell_type": "markdown",
   "metadata": {
    "id": "HgojVQ96D8YZ"
   },
   "source": [
    "# VIF"
   ]
  },
  {
   "cell_type": "code",
   "execution_count": null,
   "metadata": {
    "id": "elEixrTHD8YZ",
    "outputId": "43896dfe-68e8-4557-895c-874b526f186e",
    "scrolled": true
   },
   "outputs": [
    {
     "data": {
      "text/plain": [
       "Engine_size          64.335386\n",
       "Horsepower           65.006727\n",
       "Wheelbase          1110.369198\n",
       "Width               712.438964\n",
       "Length              870.460280\n",
       "Curb_weight         254.744942\n",
       "Fuel_capacity       151.746109\n",
       "Fuel_efficiency     120.651937\n",
       "Resale               24.872637\n",
       "dtype: float64"
      ]
     },
     "execution_count": 13,
     "metadata": {},
     "output_type": "execute_result"
    }
   ],
   "source": [
    "from statsmodels.stats.outliers_influence import variance_inflation_factor\n",
    "X1 = df.drop(['Price'],axis=1)\n",
    "series_before = pd.Series([variance_inflation_factor(X1.values, i)\n",
    "                           for i in range(X1.shape[1])],  # i=0,1,2,...8\n",
    "                          index=X1.columns)  # column name\n",
    "series_before"
   ]
  },
  {
   "cell_type": "markdown",
   "metadata": {
    "id": "dTZFz2l5D8YZ"
   },
   "source": [
    "* Multi- colinearity is Present in Dataset"
   ]
  },
  {
   "cell_type": "markdown",
   "metadata": {
    "id": "hZ4EgnFvD8YZ"
   },
   "source": [
    "# Model Builiding"
   ]
  },
  {
   "cell_type": "markdown",
   "metadata": {
    "id": "OiHnZ_7vD8Ya"
   },
   "source": [
    "#### Method 2 -- Variable selection Method\n",
    "1. Forward Selection Method\n",
    "2. Backward Selection Method"
   ]
  },
  {
   "cell_type": "code",
   "execution_count": null,
   "metadata": {
    "id": "cnVvPN41D8Ya",
    "outputId": "420b75d3-1937-40d0-83bd-89fe54eb6e1b",
    "scrolled": true
   },
   "outputs": [
    {
     "data": {
      "text/html": [
       "<style>#sk-container-id-1 {color: black;background-color: white;}#sk-container-id-1 pre{padding: 0;}#sk-container-id-1 div.sk-toggleable {background-color: white;}#sk-container-id-1 label.sk-toggleable__label {cursor: pointer;display: block;width: 100%;margin-bottom: 0;padding: 0.3em;box-sizing: border-box;text-align: center;}#sk-container-id-1 label.sk-toggleable__label-arrow:before {content: \"▸\";float: left;margin-right: 0.25em;color: #696969;}#sk-container-id-1 label.sk-toggleable__label-arrow:hover:before {color: black;}#sk-container-id-1 div.sk-estimator:hover label.sk-toggleable__label-arrow:before {color: black;}#sk-container-id-1 div.sk-toggleable__content {max-height: 0;max-width: 0;overflow: hidden;text-align: left;background-color: #f0f8ff;}#sk-container-id-1 div.sk-toggleable__content pre {margin: 0.2em;color: black;border-radius: 0.25em;background-color: #f0f8ff;}#sk-container-id-1 input.sk-toggleable__control:checked~div.sk-toggleable__content {max-height: 200px;max-width: 100%;overflow: auto;}#sk-container-id-1 input.sk-toggleable__control:checked~label.sk-toggleable__label-arrow:before {content: \"▾\";}#sk-container-id-1 div.sk-estimator input.sk-toggleable__control:checked~label.sk-toggleable__label {background-color: #d4ebff;}#sk-container-id-1 div.sk-label input.sk-toggleable__control:checked~label.sk-toggleable__label {background-color: #d4ebff;}#sk-container-id-1 input.sk-hidden--visually {border: 0;clip: rect(1px 1px 1px 1px);clip: rect(1px, 1px, 1px, 1px);height: 1px;margin: -1px;overflow: hidden;padding: 0;position: absolute;width: 1px;}#sk-container-id-1 div.sk-estimator {font-family: monospace;background-color: #f0f8ff;border: 1px dotted black;border-radius: 0.25em;box-sizing: border-box;margin-bottom: 0.5em;}#sk-container-id-1 div.sk-estimator:hover {background-color: #d4ebff;}#sk-container-id-1 div.sk-parallel-item::after {content: \"\";width: 100%;border-bottom: 1px solid gray;flex-grow: 1;}#sk-container-id-1 div.sk-label:hover label.sk-toggleable__label {background-color: #d4ebff;}#sk-container-id-1 div.sk-serial::before {content: \"\";position: absolute;border-left: 1px solid gray;box-sizing: border-box;top: 0;bottom: 0;left: 50%;z-index: 0;}#sk-container-id-1 div.sk-serial {display: flex;flex-direction: column;align-items: center;background-color: white;padding-right: 0.2em;padding-left: 0.2em;position: relative;}#sk-container-id-1 div.sk-item {position: relative;z-index: 1;}#sk-container-id-1 div.sk-parallel {display: flex;align-items: stretch;justify-content: center;background-color: white;position: relative;}#sk-container-id-1 div.sk-item::before, #sk-container-id-1 div.sk-parallel-item::before {content: \"\";position: absolute;border-left: 1px solid gray;box-sizing: border-box;top: 0;bottom: 0;left: 50%;z-index: -1;}#sk-container-id-1 div.sk-parallel-item {display: flex;flex-direction: column;z-index: 1;position: relative;background-color: white;}#sk-container-id-1 div.sk-parallel-item:first-child::after {align-self: flex-end;width: 50%;}#sk-container-id-1 div.sk-parallel-item:last-child::after {align-self: flex-start;width: 50%;}#sk-container-id-1 div.sk-parallel-item:only-child::after {width: 0;}#sk-container-id-1 div.sk-dashed-wrapped {border: 1px dashed gray;margin: 0 0.4em 0.5em 0.4em;box-sizing: border-box;padding-bottom: 0.4em;background-color: white;}#sk-container-id-1 div.sk-label label {font-family: monospace;font-weight: bold;display: inline-block;line-height: 1.2em;}#sk-container-id-1 div.sk-label-container {text-align: center;}#sk-container-id-1 div.sk-container {/* jupyter's `normalize.less` sets `[hidden] { display: none; }` but bootstrap.min.css set `[hidden] { display: none !important; }` so we also need the `!important` here to be able to override the default hidden behavior on the sphinx rendered scikit-learn.org. See: https://github.com/scikit-learn/scikit-learn/issues/21755 */display: inline-block !important;position: relative;}#sk-container-id-1 div.sk-text-repr-fallback {display: none;}</style><div id=\"sk-container-id-1\" class=\"sk-top-container\"><div class=\"sk-text-repr-fallback\"><pre>SequentialFeatureSelector(estimator=LinearRegression(), n_features_to_select=5,\n",
       "                          scoring=&#x27;r2&#x27;)</pre><b>In a Jupyter environment, please rerun this cell to show the HTML representation or trust the notebook. <br />On GitHub, the HTML representation is unable to render, please try loading this page with nbviewer.org.</b></div><div class=\"sk-container\" hidden><div class=\"sk-item sk-dashed-wrapped\"><div class=\"sk-label-container\"><div class=\"sk-label sk-toggleable\"><input class=\"sk-toggleable__control sk-hidden--visually\" id=\"sk-estimator-id-1\" type=\"checkbox\" ><label for=\"sk-estimator-id-1\" class=\"sk-toggleable__label sk-toggleable__label-arrow\">SequentialFeatureSelector</label><div class=\"sk-toggleable__content\"><pre>SequentialFeatureSelector(estimator=LinearRegression(), n_features_to_select=5,\n",
       "                          scoring=&#x27;r2&#x27;)</pre></div></div></div><div class=\"sk-parallel\"><div class=\"sk-parallel-item\"><div class=\"sk-item\"><div class=\"sk-label-container\"><div class=\"sk-label sk-toggleable\"><input class=\"sk-toggleable__control sk-hidden--visually\" id=\"sk-estimator-id-2\" type=\"checkbox\" ><label for=\"sk-estimator-id-2\" class=\"sk-toggleable__label sk-toggleable__label-arrow\">estimator: LinearRegression</label><div class=\"sk-toggleable__content\"><pre>LinearRegression()</pre></div></div></div><div class=\"sk-serial\"><div class=\"sk-item\"><div class=\"sk-estimator sk-toggleable\"><input class=\"sk-toggleable__control sk-hidden--visually\" id=\"sk-estimator-id-3\" type=\"checkbox\" ><label for=\"sk-estimator-id-3\" class=\"sk-toggleable__label sk-toggleable__label-arrow\">LinearRegression</label><div class=\"sk-toggleable__content\"><pre>LinearRegression()</pre></div></div></div></div></div></div></div></div></div></div>"
      ],
      "text/plain": [
       "SequentialFeatureSelector(estimator=LinearRegression(), n_features_to_select=5,\n",
       "                          scoring='r2')"
      ]
     },
     "execution_count": 14,
     "metadata": {},
     "output_type": "execute_result"
    }
   ],
   "source": [
    "from sklearn.linear_model import LinearRegression\n",
    "from sklearn.feature_selection import SequentialFeatureSelector as sfs\n",
    "\n",
    "lreg = LinearRegression()\n",
    "Model = sfs(lreg, n_features_to_select = 5, direction='forward', scoring='r2')\n",
    "Model.fit(X_train,y_train)"
   ]
  },
  {
   "cell_type": "code",
   "execution_count": null,
   "metadata": {
    "id": "oOPFGMEsD8Ya",
    "outputId": "8a7bb77f-231c-4695-e62c-aae9e41fb7a3"
   },
   "outputs": [
    {
     "data": {
      "text/plain": [
       "array(['Engine_size', 'Horsepower', 'Wheelbase', 'Width', 'Length',\n",
       "       'Curb_weight', 'Fuel_capacity', 'Fuel_efficiency', 'Resale'],\n",
       "      dtype=object)"
      ]
     },
     "execution_count": 15,
     "metadata": {},
     "output_type": "execute_result"
    }
   ],
   "source": [
    "Model.feature_names_in_"
   ]
  },
  {
   "cell_type": "code",
   "execution_count": null,
   "metadata": {
    "id": "kIS4MxNFD8Ya",
    "outputId": "a87234ec-3d60-4f0c-dab8-a765ff38c8cc"
   },
   "outputs": [
    {
     "data": {
      "text/plain": [
       "array(['Horsepower', 'Wheelbase', 'Length', 'Curb_weight', 'Resale'],\n",
       "      dtype=object)"
      ]
     },
     "execution_count": 16,
     "metadata": {},
     "output_type": "execute_result"
    }
   ],
   "source": [
    "Model.get_feature_names_out()"
   ]
  },
  {
   "cell_type": "markdown",
   "metadata": {
    "id": "qbO68_lbD8Ya"
   },
   "source": [
    "#### Method 2 -- sklearn"
   ]
  },
  {
   "cell_type": "code",
   "execution_count": null,
   "metadata": {
    "id": "gENUEISJD8Ya"
   },
   "outputs": [],
   "source": [
    "from sklearn.linear_model import LinearRegression"
   ]
  },
  {
   "cell_type": "code",
   "execution_count": null,
   "metadata": {
    "id": "7KWN1HfrD8Ya",
    "outputId": "c5093d5e-e26d-4192-aac7-74f1d42f6c2a",
    "scrolled": true
   },
   "outputs": [
    {
     "data": {
      "text/html": [
       "<div>\n",
       "<style scoped>\n",
       "    .dataframe tbody tr th:only-of-type {\n",
       "        vertical-align: middle;\n",
       "    }\n",
       "\n",
       "    .dataframe tbody tr th {\n",
       "        vertical-align: top;\n",
       "    }\n",
       "\n",
       "    .dataframe thead th {\n",
       "        text-align: right;\n",
       "    }\n",
       "</style>\n",
       "<table border=\"1\" class=\"dataframe\">\n",
       "  <thead>\n",
       "    <tr style=\"text-align: right;\">\n",
       "      <th></th>\n",
       "      <th>Horsepower</th>\n",
       "      <th>Wheelbase</th>\n",
       "      <th>Length</th>\n",
       "      <th>Curb_weight</th>\n",
       "      <th>Resale</th>\n",
       "    </tr>\n",
       "  </thead>\n",
       "  <tbody>\n",
       "    <tr>\n",
       "      <th>131</th>\n",
       "      <td>137.0</td>\n",
       "      <td>106.5</td>\n",
       "      <td>190.4</td>\n",
       "      <td>3.075</td>\n",
       "      <td>18.061000</td>\n",
       "    </tr>\n",
       "    <tr>\n",
       "      <th>88</th>\n",
       "      <td>200.0</td>\n",
       "      <td>114.7</td>\n",
       "      <td>212.0</td>\n",
       "      <td>3.958</td>\n",
       "      <td>14.875000</td>\n",
       "    </tr>\n",
       "    <tr>\n",
       "      <th>8</th>\n",
       "      <td>193.0</td>\n",
       "      <td>107.3</td>\n",
       "      <td>176.0</td>\n",
       "      <td>3.197</td>\n",
       "      <td>26.410625</td>\n",
       "    </tr>\n",
       "    <tr>\n",
       "      <th>0</th>\n",
       "      <td>140.0</td>\n",
       "      <td>101.2</td>\n",
       "      <td>172.4</td>\n",
       "      <td>2.639</td>\n",
       "      <td>16.360000</td>\n",
       "    </tr>\n",
       "    <tr>\n",
       "      <th>122</th>\n",
       "      <td>185.0</td>\n",
       "      <td>120.0</td>\n",
       "      <td>201.3</td>\n",
       "      <td>3.942</td>\n",
       "      <td>18.061000</td>\n",
       "    </tr>\n",
       "  </tbody>\n",
       "</table>\n",
       "</div>"
      ],
      "text/plain": [
       "     Horsepower  Wheelbase  Length  Curb_weight     Resale\n",
       "131       137.0      106.5   190.4        3.075  18.061000\n",
       "88        200.0      114.7   212.0        3.958  14.875000\n",
       "8         193.0      107.3   176.0        3.197  26.410625\n",
       "0         140.0      101.2   172.4        2.639  16.360000\n",
       "122       185.0      120.0   201.3        3.942  18.061000"
      ]
     },
     "execution_count": 18,
     "metadata": {},
     "output_type": "execute_result"
    }
   ],
   "source": [
    "X_train = X_train.loc[:,['Horsepower','Wheelbase','Length', 'Curb_weight', 'Resale']]\n",
    "X_train.head()"
   ]
  },
  {
   "cell_type": "code",
   "execution_count": null,
   "metadata": {
    "id": "-afk8PgQD8Ya",
    "outputId": "32ee005b-169e-4bc7-a205-971f4b5814db"
   },
   "outputs": [
    {
     "data": {
      "text/html": [
       "<div>\n",
       "<style scoped>\n",
       "    .dataframe tbody tr th:only-of-type {\n",
       "        vertical-align: middle;\n",
       "    }\n",
       "\n",
       "    .dataframe tbody tr th {\n",
       "        vertical-align: top;\n",
       "    }\n",
       "\n",
       "    .dataframe thead th {\n",
       "        text-align: right;\n",
       "    }\n",
       "</style>\n",
       "<table border=\"1\" class=\"dataframe\">\n",
       "  <thead>\n",
       "    <tr style=\"text-align: right;\">\n",
       "      <th></th>\n",
       "      <th>Horsepower</th>\n",
       "      <th>Wheelbase</th>\n",
       "      <th>Length</th>\n",
       "      <th>Curb_weight</th>\n",
       "      <th>Resale</th>\n",
       "      <th>Price</th>\n",
       "    </tr>\n",
       "  </thead>\n",
       "  <tbody>\n",
       "    <tr>\n",
       "      <th>131</th>\n",
       "      <td>137.0</td>\n",
       "      <td>106.5</td>\n",
       "      <td>190.4</td>\n",
       "      <td>3.075</td>\n",
       "      <td>18.061000</td>\n",
       "      <td>18.835</td>\n",
       "    </tr>\n",
       "    <tr>\n",
       "      <th>88</th>\n",
       "      <td>200.0</td>\n",
       "      <td>114.7</td>\n",
       "      <td>212.0</td>\n",
       "      <td>3.958</td>\n",
       "      <td>14.875000</td>\n",
       "      <td>22.605</td>\n",
       "    </tr>\n",
       "    <tr>\n",
       "      <th>8</th>\n",
       "      <td>193.0</td>\n",
       "      <td>107.3</td>\n",
       "      <td>176.0</td>\n",
       "      <td>3.197</td>\n",
       "      <td>26.410625</td>\n",
       "      <td>33.400</td>\n",
       "    </tr>\n",
       "    <tr>\n",
       "      <th>0</th>\n",
       "      <td>140.0</td>\n",
       "      <td>101.2</td>\n",
       "      <td>172.4</td>\n",
       "      <td>2.639</td>\n",
       "      <td>16.360000</td>\n",
       "      <td>21.500</td>\n",
       "    </tr>\n",
       "    <tr>\n",
       "      <th>122</th>\n",
       "      <td>185.0</td>\n",
       "      <td>120.0</td>\n",
       "      <td>201.3</td>\n",
       "      <td>3.942</td>\n",
       "      <td>18.061000</td>\n",
       "      <td>25.635</td>\n",
       "    </tr>\n",
       "  </tbody>\n",
       "</table>\n",
       "</div>"
      ],
      "text/plain": [
       "     Horsepower  Wheelbase  Length  Curb_weight     Resale   Price\n",
       "131       137.0      106.5   190.4        3.075  18.061000  18.835\n",
       "88        200.0      114.7   212.0        3.958  14.875000  22.605\n",
       "8         193.0      107.3   176.0        3.197  26.410625  33.400\n",
       "0         140.0      101.2   172.4        2.639  16.360000  21.500\n",
       "122       185.0      120.0   201.3        3.942  18.061000  25.635"
      ]
     },
     "execution_count": 19,
     "metadata": {},
     "output_type": "execute_result"
    }
   ],
   "source": [
    "train = pd.concat([X_train,y_train], axis=1)\n",
    "train.head()"
   ]
  },
  {
   "cell_type": "code",
   "execution_count": null,
   "metadata": {
    "id": "Mot1awTAD8Yb",
    "outputId": "9b5bae73-d22f-48b5-f8a8-00ceaff0981e"
   },
   "outputs": [
    {
     "data": {
      "text/html": [
       "<style>#sk-container-id-2 {color: black;background-color: white;}#sk-container-id-2 pre{padding: 0;}#sk-container-id-2 div.sk-toggleable {background-color: white;}#sk-container-id-2 label.sk-toggleable__label {cursor: pointer;display: block;width: 100%;margin-bottom: 0;padding: 0.3em;box-sizing: border-box;text-align: center;}#sk-container-id-2 label.sk-toggleable__label-arrow:before {content: \"▸\";float: left;margin-right: 0.25em;color: #696969;}#sk-container-id-2 label.sk-toggleable__label-arrow:hover:before {color: black;}#sk-container-id-2 div.sk-estimator:hover label.sk-toggleable__label-arrow:before {color: black;}#sk-container-id-2 div.sk-toggleable__content {max-height: 0;max-width: 0;overflow: hidden;text-align: left;background-color: #f0f8ff;}#sk-container-id-2 div.sk-toggleable__content pre {margin: 0.2em;color: black;border-radius: 0.25em;background-color: #f0f8ff;}#sk-container-id-2 input.sk-toggleable__control:checked~div.sk-toggleable__content {max-height: 200px;max-width: 100%;overflow: auto;}#sk-container-id-2 input.sk-toggleable__control:checked~label.sk-toggleable__label-arrow:before {content: \"▾\";}#sk-container-id-2 div.sk-estimator input.sk-toggleable__control:checked~label.sk-toggleable__label {background-color: #d4ebff;}#sk-container-id-2 div.sk-label input.sk-toggleable__control:checked~label.sk-toggleable__label {background-color: #d4ebff;}#sk-container-id-2 input.sk-hidden--visually {border: 0;clip: rect(1px 1px 1px 1px);clip: rect(1px, 1px, 1px, 1px);height: 1px;margin: -1px;overflow: hidden;padding: 0;position: absolute;width: 1px;}#sk-container-id-2 div.sk-estimator {font-family: monospace;background-color: #f0f8ff;border: 1px dotted black;border-radius: 0.25em;box-sizing: border-box;margin-bottom: 0.5em;}#sk-container-id-2 div.sk-estimator:hover {background-color: #d4ebff;}#sk-container-id-2 div.sk-parallel-item::after {content: \"\";width: 100%;border-bottom: 1px solid gray;flex-grow: 1;}#sk-container-id-2 div.sk-label:hover label.sk-toggleable__label {background-color: #d4ebff;}#sk-container-id-2 div.sk-serial::before {content: \"\";position: absolute;border-left: 1px solid gray;box-sizing: border-box;top: 0;bottom: 0;left: 50%;z-index: 0;}#sk-container-id-2 div.sk-serial {display: flex;flex-direction: column;align-items: center;background-color: white;padding-right: 0.2em;padding-left: 0.2em;position: relative;}#sk-container-id-2 div.sk-item {position: relative;z-index: 1;}#sk-container-id-2 div.sk-parallel {display: flex;align-items: stretch;justify-content: center;background-color: white;position: relative;}#sk-container-id-2 div.sk-item::before, #sk-container-id-2 div.sk-parallel-item::before {content: \"\";position: absolute;border-left: 1px solid gray;box-sizing: border-box;top: 0;bottom: 0;left: 50%;z-index: -1;}#sk-container-id-2 div.sk-parallel-item {display: flex;flex-direction: column;z-index: 1;position: relative;background-color: white;}#sk-container-id-2 div.sk-parallel-item:first-child::after {align-self: flex-end;width: 50%;}#sk-container-id-2 div.sk-parallel-item:last-child::after {align-self: flex-start;width: 50%;}#sk-container-id-2 div.sk-parallel-item:only-child::after {width: 0;}#sk-container-id-2 div.sk-dashed-wrapped {border: 1px dashed gray;margin: 0 0.4em 0.5em 0.4em;box-sizing: border-box;padding-bottom: 0.4em;background-color: white;}#sk-container-id-2 div.sk-label label {font-family: monospace;font-weight: bold;display: inline-block;line-height: 1.2em;}#sk-container-id-2 div.sk-label-container {text-align: center;}#sk-container-id-2 div.sk-container {/* jupyter's `normalize.less` sets `[hidden] { display: none; }` but bootstrap.min.css set `[hidden] { display: none !important; }` so we also need the `!important` here to be able to override the default hidden behavior on the sphinx rendered scikit-learn.org. See: https://github.com/scikit-learn/scikit-learn/issues/21755 */display: inline-block !important;position: relative;}#sk-container-id-2 div.sk-text-repr-fallback {display: none;}</style><div id=\"sk-container-id-2\" class=\"sk-top-container\"><div class=\"sk-text-repr-fallback\"><pre>LinearRegression()</pre><b>In a Jupyter environment, please rerun this cell to show the HTML representation or trust the notebook. <br />On GitHub, the HTML representation is unable to render, please try loading this page with nbviewer.org.</b></div><div class=\"sk-container\" hidden><div class=\"sk-item\"><div class=\"sk-estimator sk-toggleable\"><input class=\"sk-toggleable__control sk-hidden--visually\" id=\"sk-estimator-id-4\" type=\"checkbox\" checked><label for=\"sk-estimator-id-4\" class=\"sk-toggleable__label sk-toggleable__label-arrow\">LinearRegression</label><div class=\"sk-toggleable__content\"><pre>LinearRegression()</pre></div></div></div></div></div>"
      ],
      "text/plain": [
       "LinearRegression()"
      ]
     },
     "execution_count": 20,
     "metadata": {},
     "output_type": "execute_result"
    }
   ],
   "source": [
    "Model3 = LinearRegression()\n",
    "Model3.fit(X_train,y_train)"
   ]
  },
  {
   "cell_type": "code",
   "execution_count": null,
   "metadata": {
    "id": "vDBS6xY0D8Yb",
    "outputId": "125808cc-634b-488c-8f70-f41fd5a4ac12"
   },
   "outputs": [
    {
     "data": {
      "text/plain": [
       "array([10.482])"
      ]
     },
     "execution_count": 21,
     "metadata": {},
     "output_type": "execute_result"
    }
   ],
   "source": [
    "np.round(Model3.intercept_,3)"
   ]
  },
  {
   "cell_type": "code",
   "execution_count": null,
   "metadata": {
    "id": "vLnNDRq-D8Yb",
    "outputId": "bae74a59-20a7-435a-8764-3f8ef3c5a6b6"
   },
   "outputs": [
    {
     "data": {
      "text/plain": [
       "array([[ 0.1498,  0.1926, -0.2609,  1.9822,  0.5931]])"
      ]
     },
     "execution_count": 22,
     "metadata": {},
     "output_type": "execute_result"
    }
   ],
   "source": [
    "np.round(Model3.coef_,4)"
   ]
  },
  {
   "cell_type": "code",
   "execution_count": null,
   "metadata": {
    "id": "0wUyP2bDD8Yb",
    "outputId": "fe690176-d16b-4649-d2e6-034cc0a796c4"
   },
   "outputs": [
    {
     "data": {
      "text/plain": [
       "array(['Horsepower', 'Wheelbase', 'Length', 'Curb_weight', 'Resale'],\n",
       "      dtype=object)"
      ]
     },
     "execution_count": 23,
     "metadata": {},
     "output_type": "execute_result"
    }
   ],
   "source": [
    "Model3.feature_names_in_"
   ]
  },
  {
   "cell_type": "markdown",
   "metadata": {
    "id": "AIZEOMAlD8Yc"
   },
   "source": [
    "#### Model"
   ]
  },
  {
   "cell_type": "markdown",
   "metadata": {
    "id": "_TmiC0wzD8Yc"
   },
   "source": [
    "* y = 10.482 + 0.1498 * Horsepower + 0.1926 * Wheelbase - 0.2609 * Length + 1.9822 * Curb_weight + 0.5931 *Resale"
   ]
  },
  {
   "cell_type": "markdown",
   "metadata": {
    "id": "sPK8vS_CD8Yc"
   },
   "source": [
    "# Prediction on Train"
   ]
  },
  {
   "cell_type": "code",
   "execution_count": null,
   "metadata": {
    "id": "6MkOWmySD8Yc",
    "outputId": "78fe618b-ca88-4b28-9cc6-70204d92ffcc"
   },
   "outputs": [
    {
     "data": {
      "text/html": [
       "<div>\n",
       "<style scoped>\n",
       "    .dataframe tbody tr th:only-of-type {\n",
       "        vertical-align: middle;\n",
       "    }\n",
       "\n",
       "    .dataframe tbody tr th {\n",
       "        vertical-align: top;\n",
       "    }\n",
       "\n",
       "    .dataframe thead th {\n",
       "        text-align: right;\n",
       "    }\n",
       "</style>\n",
       "<table border=\"1\" class=\"dataframe\">\n",
       "  <thead>\n",
       "    <tr style=\"text-align: right;\">\n",
       "      <th></th>\n",
       "      <th>Horsepower</th>\n",
       "      <th>Wheelbase</th>\n",
       "      <th>Length</th>\n",
       "      <th>Curb_weight</th>\n",
       "      <th>Resale</th>\n",
       "      <th>Price</th>\n",
       "      <th>fitted_value</th>\n",
       "      <th>Residual</th>\n",
       "    </tr>\n",
       "  </thead>\n",
       "  <tbody>\n",
       "    <tr>\n",
       "      <th>131</th>\n",
       "      <td>137.0</td>\n",
       "      <td>106.5</td>\n",
       "      <td>190.4</td>\n",
       "      <td>3.075</td>\n",
       "      <td>18.061000</td>\n",
       "      <td>18.835</td>\n",
       "      <td>18.65</td>\n",
       "      <td>0.19</td>\n",
       "    </tr>\n",
       "    <tr>\n",
       "      <th>88</th>\n",
       "      <td>200.0</td>\n",
       "      <td>114.7</td>\n",
       "      <td>212.0</td>\n",
       "      <td>3.958</td>\n",
       "      <td>14.875000</td>\n",
       "      <td>22.605</td>\n",
       "      <td>23.89</td>\n",
       "      <td>-1.28</td>\n",
       "    </tr>\n",
       "    <tr>\n",
       "      <th>8</th>\n",
       "      <td>193.0</td>\n",
       "      <td>107.3</td>\n",
       "      <td>176.0</td>\n",
       "      <td>3.197</td>\n",
       "      <td>26.410625</td>\n",
       "      <td>33.400</td>\n",
       "      <td>36.14</td>\n",
       "      <td>-2.74</td>\n",
       "    </tr>\n",
       "    <tr>\n",
       "      <th>0</th>\n",
       "      <td>140.0</td>\n",
       "      <td>101.2</td>\n",
       "      <td>172.4</td>\n",
       "      <td>2.639</td>\n",
       "      <td>16.360000</td>\n",
       "      <td>21.500</td>\n",
       "      <td>20.90</td>\n",
       "      <td>0.60</td>\n",
       "    </tr>\n",
       "    <tr>\n",
       "      <th>122</th>\n",
       "      <td>185.0</td>\n",
       "      <td>120.0</td>\n",
       "      <td>201.3</td>\n",
       "      <td>3.942</td>\n",
       "      <td>18.061000</td>\n",
       "      <td>25.635</td>\n",
       "      <td>27.31</td>\n",
       "      <td>-1.67</td>\n",
       "    </tr>\n",
       "  </tbody>\n",
       "</table>\n",
       "</div>"
      ],
      "text/plain": [
       "     Horsepower  Wheelbase  Length  Curb_weight     Resale   Price  \\\n",
       "131       137.0      106.5   190.4        3.075  18.061000  18.835   \n",
       "88        200.0      114.7   212.0        3.958  14.875000  22.605   \n",
       "8         193.0      107.3   176.0        3.197  26.410625  33.400   \n",
       "0         140.0      101.2   172.4        2.639  16.360000  21.500   \n",
       "122       185.0      120.0   201.3        3.942  18.061000  25.635   \n",
       "\n",
       "     fitted_value  Residual  \n",
       "131         18.65      0.19  \n",
       "88          23.89     -1.28  \n",
       "8           36.14     -2.74  \n",
       "0           20.90      0.60  \n",
       "122         27.31     -1.67  "
      ]
     },
     "execution_count": 24,
     "metadata": {},
     "output_type": "execute_result"
    }
   ],
   "source": [
    "import numpy as np\n",
    "train['fitted_value'] = np.round(Model3.predict(X_train),2)\n",
    "train['Residual'] = np.round(train.Price - train.fitted_value,2)\n",
    "train.head()"
   ]
  },
  {
   "cell_type": "code",
   "execution_count": null,
   "metadata": {
    "id": "hcgbIC_SD8Yc",
    "outputId": "59a9c383-4078-44cb-9d04-ba8a5967f1f7",
    "scrolled": true
   },
   "outputs": [
    {
     "name": "stdout",
     "output_type": "stream",
     "text": [
      "R-Squared score for model Performance on Train :  89.0\n"
     ]
    }
   ],
   "source": [
    "from sklearn.metrics import r2_score\n",
    "r2 = r2_score(train.Price,train.fitted_value)\n",
    "print('R-Squared score for model Performance on Train : ', np.round(r2,2)*100)"
   ]
  },
  {
   "cell_type": "markdown",
   "metadata": {
    "id": "ta1y8ZvXD8Yi"
   },
   "source": [
    "# Assumption of Linear Regression"
   ]
  },
  {
   "cell_type": "code",
   "execution_count": null,
   "metadata": {
    "id": "7_Kl3Gn8D8Yi",
    "outputId": "9d520e3e-a5cc-4f61-acbd-a838b573ca4f"
   },
   "outputs": [
    {
     "data": {
      "text/plain": [
       "<Axes: title={'center': 'Price vs Resale'}, xlabel='Resale', ylabel='Price'>"
      ]
     },
     "execution_count": 26,
     "metadata": {},
     "output_type": "execute_result"
    },
    {
     "data": {
      "image/png": "[encoded data removed]",
      "text/plain": [
       "<Figure size 640x480 with 1 Axes>"
      ]
     },
     "metadata": {},
     "output_type": "display_data"
    }
   ],
   "source": [
    "df.plot.scatter(x='Resale', y='Price', title='Price vs Resale')"
   ]
  },
  {
   "cell_type": "markdown",
   "metadata": {
    "id": "N3OBsqOPD8Yj"
   },
   "source": [
    "# Homoscedasicity"
   ]
  },
  {
   "cell_type": "code",
   "execution_count": null,
   "metadata": {
    "id": "kx2W3iolD8Yj",
    "outputId": "05424011-dafc-454e-fbfa-c11f6b9eb3f0"
   },
   "outputs": [
    {
     "data": {
      "text/plain": [
       "<Axes: xlabel='fitted_value', ylabel='Residual'>"
      ]
     },
     "execution_count": 27,
     "metadata": {},
     "output_type": "execute_result"
    },
    {
     "data": {
      "image/png": "[encoded data removed]",
      "text/plain": [
       "<Figure size 640x480 with 1 Axes>"
      ]
     },
     "metadata": {},
     "output_type": "display_data"
    }
   ],
   "source": [
    "sns.scatterplot(x='fitted_value', y='Residual',data=train)"
   ]
  },
  {
   "cell_type": "code",
   "execution_count": null,
   "metadata": {
    "id": "ugkyxKQ7D8Yj",
    "outputId": "15cb2c4a-0866-4391-bdf2-99c28ec4d94f"
   },
   "outputs": [
    {
     "data": {
      "image/png": "[encoded data removed]",
      "text/plain": [
       "<Figure size 640x480 with 1 Axes>"
      ]
     },
     "metadata": {},
     "output_type": "display_data"
    }
   ],
   "source": [
    "import statsmodels.api as sm\n",
    "from matplotlib import pyplot as plt\n",
    "\n",
    "fig = sm.qqplot(train['Residual'], fit=True, line='s') # s indicate standardized line\n",
    "plt.show()"
   ]
  },
  {
   "cell_type": "code",
   "execution_count": null,
   "metadata": {
    "id": "U19KmxvTD8Yk",
    "outputId": "354c1c34-7260-49c1-9277-d48380403ef7"
   },
   "outputs": [
    {
     "data": {
      "text/plain": [
       "<Axes: ylabel='Frequency'>"
      ]
     },
     "execution_count": 29,
     "metadata": {},
     "output_type": "execute_result"
    },
    {
     "data": {
      "image/png": "[encoded data removed]",
      "text/plain": [
       "<Figure size 640x480 with 1 Axes>"
      ]
     },
     "metadata": {},
     "output_type": "display_data"
    }
   ],
   "source": [
    "train['Residual'].plot.hist()"
   ]
  },
  {
   "cell_type": "markdown",
   "metadata": {
    "id": "tsM80lXGD8Yl"
   },
   "source": [
    "# Prediction on Test"
   ]
  },
  {
   "cell_type": "code",
   "execution_count": null,
   "metadata": {
    "id": "RUuJnwoeD8Yl",
    "outputId": "fe9008c8-0204-48cc-be97-c3574683d90e"
   },
   "outputs": [
    {
     "data": {
      "text/html": [
       "<div>\n",
       "<style scoped>\n",
       "    .dataframe tbody tr th:only-of-type {\n",
       "        vertical-align: middle;\n",
       "    }\n",
       "\n",
       "    .dataframe tbody tr th {\n",
       "        vertical-align: top;\n",
       "    }\n",
       "\n",
       "    .dataframe thead th {\n",
       "        text-align: right;\n",
       "    }\n",
       "</style>\n",
       "<table border=\"1\" class=\"dataframe\">\n",
       "  <thead>\n",
       "    <tr style=\"text-align: right;\">\n",
       "      <th></th>\n",
       "      <th>Horsepower</th>\n",
       "      <th>Wheelbase</th>\n",
       "      <th>Length</th>\n",
       "      <th>Curb_weight</th>\n",
       "      <th>Resale</th>\n",
       "    </tr>\n",
       "  </thead>\n",
       "  <tbody>\n",
       "    <tr>\n",
       "      <th>99</th>\n",
       "      <td>215.0</td>\n",
       "      <td>111.0</td>\n",
       "      <td>180.6</td>\n",
       "      <td>4.387</td>\n",
       "      <td>18.061</td>\n",
       "    </tr>\n",
       "    <tr>\n",
       "      <th>25</th>\n",
       "      <td>120.0</td>\n",
       "      <td>97.1</td>\n",
       "      <td>174.3</td>\n",
       "      <td>2.398</td>\n",
       "      <td>9.125</td>\n",
       "    </tr>\n",
       "    <tr>\n",
       "      <th>12</th>\n",
       "      <td>205.0</td>\n",
       "      <td>113.8</td>\n",
       "      <td>206.8</td>\n",
       "      <td>3.778</td>\n",
       "      <td>20.190</td>\n",
       "    </tr>\n",
       "    <tr>\n",
       "      <th>146</th>\n",
       "      <td>150.0</td>\n",
       "      <td>106.4</td>\n",
       "      <td>184.1</td>\n",
       "      <td>3.043</td>\n",
       "      <td>16.725</td>\n",
       "    </tr>\n",
       "    <tr>\n",
       "      <th>61</th>\n",
       "      <td>92.0</td>\n",
       "      <td>96.1</td>\n",
       "      <td>166.7</td>\n",
       "      <td>2.240</td>\n",
       "      <td>5.860</td>\n",
       "    </tr>\n",
       "  </tbody>\n",
       "</table>\n",
       "</div>"
      ],
      "text/plain": [
       "     Horsepower  Wheelbase  Length  Curb_weight  Resale\n",
       "99        215.0      111.0   180.6        4.387  18.061\n",
       "25        120.0       97.1   174.3        2.398   9.125\n",
       "12        205.0      113.8   206.8        3.778  20.190\n",
       "146       150.0      106.4   184.1        3.043  16.725\n",
       "61         92.0       96.1   166.7        2.240   5.860"
      ]
     },
     "execution_count": 30,
     "metadata": {},
     "output_type": "execute_result"
    }
   ],
   "source": [
    "X_test = X_test.loc[:,['Horsepower','Wheelbase','Length', 'Curb_weight', 'Resale']]\n",
    "X_test.head()"
   ]
  },
  {
   "cell_type": "code",
   "execution_count": null,
   "metadata": {
    "id": "BKCQ6uc5D8Ym",
    "outputId": "f2534f78-eb50-4618-eb4c-7a4b6ff3ccfd"
   },
   "outputs": [
    {
     "data": {
      "text/html": [
       "<div>\n",
       "<style scoped>\n",
       "    .dataframe tbody tr th:only-of-type {\n",
       "        vertical-align: middle;\n",
       "    }\n",
       "\n",
       "    .dataframe tbody tr th {\n",
       "        vertical-align: top;\n",
       "    }\n",
       "\n",
       "    .dataframe thead th {\n",
       "        text-align: right;\n",
       "    }\n",
       "</style>\n",
       "<table border=\"1\" class=\"dataframe\">\n",
       "  <thead>\n",
       "    <tr style=\"text-align: right;\">\n",
       "      <th></th>\n",
       "      <th>Horsepower</th>\n",
       "      <th>Wheelbase</th>\n",
       "      <th>Length</th>\n",
       "      <th>Curb_weight</th>\n",
       "      <th>Resale</th>\n",
       "      <th>Price</th>\n",
       "    </tr>\n",
       "  </thead>\n",
       "  <tbody>\n",
       "    <tr>\n",
       "      <th>99</th>\n",
       "      <td>215.0</td>\n",
       "      <td>111.0</td>\n",
       "      <td>180.6</td>\n",
       "      <td>4.387</td>\n",
       "      <td>18.061</td>\n",
       "      <td>35.300</td>\n",
       "    </tr>\n",
       "    <tr>\n",
       "      <th>25</th>\n",
       "      <td>120.0</td>\n",
       "      <td>97.1</td>\n",
       "      <td>174.3</td>\n",
       "      <td>2.398</td>\n",
       "      <td>9.125</td>\n",
       "      <td>13.960</td>\n",
       "    </tr>\n",
       "    <tr>\n",
       "      <th>12</th>\n",
       "      <td>205.0</td>\n",
       "      <td>113.8</td>\n",
       "      <td>206.8</td>\n",
       "      <td>3.778</td>\n",
       "      <td>20.190</td>\n",
       "      <td>31.965</td>\n",
       "    </tr>\n",
       "    <tr>\n",
       "      <th>146</th>\n",
       "      <td>150.0</td>\n",
       "      <td>106.4</td>\n",
       "      <td>184.1</td>\n",
       "      <td>3.043</td>\n",
       "      <td>16.725</td>\n",
       "      <td>21.200</td>\n",
       "    </tr>\n",
       "    <tr>\n",
       "      <th>61</th>\n",
       "      <td>92.0</td>\n",
       "      <td>96.1</td>\n",
       "      <td>166.7</td>\n",
       "      <td>2.240</td>\n",
       "      <td>5.860</td>\n",
       "      <td>9.699</td>\n",
       "    </tr>\n",
       "  </tbody>\n",
       "</table>\n",
       "</div>"
      ],
      "text/plain": [
       "     Horsepower  Wheelbase  Length  Curb_weight  Resale   Price\n",
       "99        215.0      111.0   180.6        4.387  18.061  35.300\n",
       "25        120.0       97.1   174.3        2.398   9.125  13.960\n",
       "12        205.0      113.8   206.8        3.778  20.190  31.965\n",
       "146       150.0      106.4   184.1        3.043  16.725  21.200\n",
       "61         92.0       96.1   166.7        2.240   5.860   9.699"
      ]
     },
     "execution_count": 33,
     "metadata": {},
     "output_type": "execute_result"
    }
   ],
   "source": [
    "test = pd.concat([X_test,y_test], axis=1)\n",
    "test.head()"
   ]
  },
  {
   "cell_type": "code",
   "execution_count": null,
   "metadata": {
    "id": "3Ia1a2o-D8Ym",
    "outputId": "570efc50-d275-4dad-ec51-6d9ef976031f"
   },
   "outputs": [
    {
     "data": {
      "text/html": [
       "<div>\n",
       "<style scoped>\n",
       "    .dataframe tbody tr th:only-of-type {\n",
       "        vertical-align: middle;\n",
       "    }\n",
       "\n",
       "    .dataframe tbody tr th {\n",
       "        vertical-align: top;\n",
       "    }\n",
       "\n",
       "    .dataframe thead th {\n",
       "        text-align: right;\n",
       "    }\n",
       "</style>\n",
       "<table border=\"1\" class=\"dataframe\">\n",
       "  <thead>\n",
       "    <tr style=\"text-align: right;\">\n",
       "      <th></th>\n",
       "      <th>Horsepower</th>\n",
       "      <th>Wheelbase</th>\n",
       "      <th>Length</th>\n",
       "      <th>Curb_weight</th>\n",
       "      <th>Resale</th>\n",
       "      <th>Price</th>\n",
       "      <th>Prediction</th>\n",
       "      <th>Error / Residual</th>\n",
       "    </tr>\n",
       "  </thead>\n",
       "  <tbody>\n",
       "    <tr>\n",
       "      <th>99</th>\n",
       "      <td>215.0</td>\n",
       "      <td>111.0</td>\n",
       "      <td>180.6</td>\n",
       "      <td>4.387</td>\n",
       "      <td>18.061</td>\n",
       "      <td>35.300</td>\n",
       "      <td>36.36</td>\n",
       "      <td>-1.06</td>\n",
       "    </tr>\n",
       "    <tr>\n",
       "      <th>25</th>\n",
       "      <td>120.0</td>\n",
       "      <td>97.1</td>\n",
       "      <td>174.3</td>\n",
       "      <td>2.398</td>\n",
       "      <td>9.125</td>\n",
       "      <td>13.960</td>\n",
       "      <td>11.85</td>\n",
       "      <td>2.11</td>\n",
       "    </tr>\n",
       "    <tr>\n",
       "      <th>12</th>\n",
       "      <td>205.0</td>\n",
       "      <td>113.8</td>\n",
       "      <td>206.8</td>\n",
       "      <td>3.778</td>\n",
       "      <td>20.190</td>\n",
       "      <td>31.965</td>\n",
       "      <td>28.62</td>\n",
       "      <td>3.34</td>\n",
       "    </tr>\n",
       "    <tr>\n",
       "      <th>146</th>\n",
       "      <td>150.0</td>\n",
       "      <td>106.4</td>\n",
       "      <td>184.1</td>\n",
       "      <td>3.043</td>\n",
       "      <td>16.725</td>\n",
       "      <td>21.200</td>\n",
       "      <td>21.36</td>\n",
       "      <td>-0.16</td>\n",
       "    </tr>\n",
       "    <tr>\n",
       "      <th>61</th>\n",
       "      <td>92.0</td>\n",
       "      <td>96.1</td>\n",
       "      <td>166.7</td>\n",
       "      <td>2.240</td>\n",
       "      <td>5.860</td>\n",
       "      <td>9.699</td>\n",
       "      <td>7.19</td>\n",
       "      <td>2.51</td>\n",
       "    </tr>\n",
       "  </tbody>\n",
       "</table>\n",
       "</div>"
      ],
      "text/plain": [
       "     Horsepower  Wheelbase  Length  Curb_weight  Resale   Price  Prediction  \\\n",
       "99        215.0      111.0   180.6        4.387  18.061  35.300       36.36   \n",
       "25        120.0       97.1   174.3        2.398   9.125  13.960       11.85   \n",
       "12        205.0      113.8   206.8        3.778  20.190  31.965       28.62   \n",
       "146       150.0      106.4   184.1        3.043  16.725  21.200       21.36   \n",
       "61         92.0       96.1   166.7        2.240   5.860   9.699        7.19   \n",
       "\n",
       "     Error / Residual  \n",
       "99              -1.06  \n",
       "25               2.11  \n",
       "12               3.34  \n",
       "146             -0.16  \n",
       "61               2.51  "
      ]
     },
     "execution_count": 34,
     "metadata": {},
     "output_type": "execute_result"
    }
   ],
   "source": [
    "import numpy as np\n",
    "test['Prediction'] = np.round(Model3.predict(X_test),2)\n",
    "test['Error / Residual'] = np.round(test.Price - test.Prediction,2)\n",
    "test.head()"
   ]
  },
  {
   "cell_type": "markdown",
   "metadata": {
    "id": "2Mf4auY1D8Ym"
   },
   "source": [
    "# Comparision"
   ]
  },
  {
   "cell_type": "code",
   "execution_count": null,
   "metadata": {
    "id": "hYfk_37lD8Yn",
    "outputId": "05b788ef-9512-4e49-e30a-44cd8a17e6ee",
    "scrolled": true
   },
   "outputs": [
    {
     "name": "stdout",
     "output_type": "stream",
     "text": [
      "R-Squared score for model Performance on Train :  89.0\n"
     ]
    }
   ],
   "source": [
    "from sklearn.metrics import r2_score\n",
    "r2 = r2_score(train.Price,train.fitted_value)\n",
    "print('R-Squared score for model Performance on Train : ', np.round(r2,2)*100)"
   ]
  },
  {
   "cell_type": "code",
   "execution_count": null,
   "metadata": {
    "id": "vlHojKyZD8Yn",
    "outputId": "7967b508-8b4d-4297-d676-8c70d7bcd9be"
   },
   "outputs": [
    {
     "name": "stdout",
     "output_type": "stream",
     "text": [
      "R-Squared score for model Performance on Test :  81.0\n"
     ]
    }
   ],
   "source": [
    "r2 = r2_score(test.Price,test.Prediction)\n",
    "print('R-Squared score for model Performance on Test : ', np.round(r2,2)*100)"
   ]
  },
  {
   "cell_type": "markdown",
   "metadata": {
    "id": "BEYuA4N6D8Yn"
   },
   "source": [
    "# Loss Function -- RMSE"
   ]
  },
  {
   "cell_type": "code",
   "execution_count": null,
   "metadata": {
    "id": "8v4E0bGKD8Yo",
    "outputId": "c5a251c5-9ca9-495d-c09e-465d41d320a5"
   },
   "outputs": [
    {
     "name": "stdout",
     "output_type": "stream",
     "text": [
      "RMSE of Train Data :  3.72\n"
     ]
    }
   ],
   "source": [
    "from sklearn.metrics import mean_squared_error\n",
    "\n",
    "model_mse = mean_squared_error(train['Price'],train['fitted_value'])\n",
    "model_rmse = np.sqrt(model_mse)\n",
    "\n",
    "print(\"RMSE of Train Data : \",np.round(model_rmse,2)) #21"
   ]
  },
  {
   "cell_type": "code",
   "execution_count": null,
   "metadata": {
    "id": "DzxzX3hfD8Yo",
    "outputId": "060f9453-0815-4b7b-fa5b-d677147fa1d3"
   },
   "outputs": [
    {
     "name": "stdout",
     "output_type": "stream",
     "text": [
      "RMSE of Test Data :  5.4\n"
     ]
    }
   ],
   "source": [
    "model_mse = mean_squared_error(test['Price'],test['Prediction'])\n",
    "model_rmse = np.sqrt(model_mse)\n",
    "\n",
    "print(\"RMSE of Test Data : \",np.round(model_rmse,2)) #21"
   ]
  },
  {
   "cell_type": "markdown",
   "metadata": {
    "id": "Yt9BD3dtD8Yo"
   },
   "source": [
    "# Finished"
   ]
  }
 ],
 "metadata": {
  "colab": {
   "provenance": []
  },
  "kernelspec": {
   "display_name": "Python 3 (ipykernel)",
   "language": "python",
   "name": "python3"
  },
  "language_info": {
   "codemirror_mode": {
    "name": "ipython",
    "version": 3
   },
   "file_extension": ".py",
   "mimetype": "text/x-python",
   "name": "python",
   "nbconvert_exporter": "python",
   "pygments_lexer": "ipython3",
   "version": "3.12.4"
  }
 },
 "nbformat": 4,
 "nbformat_minor": 4
}
